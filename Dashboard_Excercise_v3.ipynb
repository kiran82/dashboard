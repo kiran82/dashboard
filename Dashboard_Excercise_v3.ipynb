{
 "cells": [
  {
   "cell_type": "code",
   "execution_count": 1,
   "metadata": {},
   "outputs": [],
   "source": [
    "import pandas as pd\n",
    "import numpy as np\n",
    "import plotly.express as px\n",
    "import plotly.graph_objects as go\n",
    "\n",
    "import dash\n",
    "import dash_core_components as dcc\n",
    "import dash_html_components as html\n",
    "from dash.dependencies import Input, Output"
   ]
  },
  {
   "cell_type": "code",
   "execution_count": 2,
   "metadata": {},
   "outputs": [],
   "source": [
    "data = pd.read_csv('Dashboard_Main_data.csv', engine= 'python')"
   ]
  },
  {
   "cell_type": "code",
   "execution_count": 3,
   "metadata": {},
   "outputs": [],
   "source": [
    "data['year'] = pd.DatetimeIndex(data['Date']).year"
   ]
  },
  {
   "cell_type": "code",
   "execution_count": 4,
   "metadata": {},
   "outputs": [],
   "source": [
    "dropdown_option=[{'label': i, 'value': i} for i in data.Category.unique()]"
   ]
  },
  {
   "cell_type": "code",
   "execution_count": 5,
   "metadata": {},
   "outputs": [],
   "source": [
    "app = dash.Dash()"
   ]
  },
  {
   "cell_type": "code",
   "execution_count": 6,
   "metadata": {},
   "outputs": [],
   "source": [
    "app.layout = html.Div(children=\n",
    "                      [\n",
    "                          html.H1(\"Ecommerce Website Sales Dashboard for 2018 - 20\",\n",
    "                                  style={'height':'20%','width':'50%','display':'inline-block', \"border\":'1px black solid'}),\n",
    "                          dcc.Dropdown(id = 'Category_Dropdown',options = dropdown_option,\n",
    "                                       placeholder = 'Please select a category',value = 'Mobile',\n",
    "                                       style={'height':'5%','width':'45%','display':'inline-block'},\n",
    "                                       #multi = True\n",
    "                                      ),\n",
    "                          dcc.Slider(\n",
    "                              id='year_slider',\n",
    "                              min=data['year'].min(),\n",
    "                              max=data['year'].max(),\n",
    "                              value=data['year'].min(),\n",
    "                              marks={str(year): str(year) for year in data['year'].unique()},\n",
    "                              step=None),\n",
    "                          html.H1(\"asdfghjklwertyuiopxcvbnm\",\n",
    "                                  style={'height':'20%','width':'50%','display':'block', \"border\":'1px black solid'}),\n",
    "                          \n",
    "                          dcc.Graph(id = 'Bar_Graph1', \n",
    "                                    style={'height':'40%','width':'33%','display':'inline-block', \"border\":\"1px black solid\"}\n",
    "                          ),\n",
    "                          dcc.Graph(id = 'Gauge_Chart1', \n",
    "                                    style={'height':'40%','width':'33%','display':'inline-block', \"border\":\"1px black solid\"}\n",
    "                          ),\n",
    "                          dcc.Graph(id = 'Gauge_Chart2', \n",
    "                                    style={'height':'40%','width':'33%','display':'inline-block', \"border\":\"1px black solid\"}   \n",
    "                          ),\n",
    "                          dcc.Graph(id = 'Area_Graph1', \n",
    "                                    style={'height':'40%','width':'100%','display':'inline-block', \"border\":\"1px black solid\"}\n",
    "                          )\n",
    "                      ]\n",
    "                     )"
   ]
  },
  {
   "cell_type": "code",
   "execution_count": 7,
   "metadata": {},
   "outputs": [],
   "source": [
    "@app.callback(\n",
    "    [\n",
    "     Output('Bar_Graph1','figure'),\n",
    "     Output('Gauge_Chart1','figure'),\n",
    "     Output('Gauge_Chart2','figure'),\n",
    "     Output('Area_Graph1','figure')\n",
    "    ],\n",
    "    [Input('Category_Dropdown','value'),\n",
    "     Input('year_slider','value')\n",
    "    ]\n",
    ")\n",
    "\n",
    "def update_charts(dropdown_value, slider_value):\n",
    "    filter_data = data[(data['Category']==dropdown_value)&(data['year']==slider_value)]\n",
    "    \n",
    "    ########Pivot for bar chart###############\n",
    "    \n",
    "    agg_data1=pd.pivot_table(filter_data,index=['Category'],values=['Sales'],aggfunc = np.sum)\n",
    "    flat1 = pd.DataFrame(agg_data1.to_records())\n",
    "    fig1 = px.bar(flat1, x = 'Category', y='Sales')\n",
    "    fig1.update_layout(transition_duration=500)\n",
    "    \n",
    "    #######Gauge chart 1##########################\n",
    "    fig2 = go.Figure(go.Indicator(\n",
    "                                    domain = {'x': [0, 1], 'y': [0, 1]},\n",
    "                                    value = filter_data['Rating'].mean(), \n",
    "                                    mode = \"gauge+number\",\n",
    "                                    title = {'text': \"Average Of Rating\"},delta = {'reference': 0},\n",
    "                                    gauge = {'axis': {'range': [None, 5]}}\n",
    "                                )\n",
    "                    )\n",
    "    fig2.update_layout(transition_duration=500)\n",
    "    \n",
    "    ####Gauge chart 2 ###############################\n",
    "    fig3 = go.Figure(go.Indicator(\n",
    "                                    domain = {'x': [0, 1], 'y': [0, 1]},\n",
    "                                    value = filter_data['Discount'].mean(), \n",
    "                                    mode = \"gauge+number\",\n",
    "                                    title = {'text': \"Average Of Discount\"},delta = {'reference': 0},\n",
    "                                    gauge = {'axis': {'range': [None, 15]}}\n",
    "                                )\n",
    "                    )\n",
    "    fig3.update_layout(transition_duration=500)\n",
    "    \n",
    "    #######Pivot for area chart##################\n",
    "    agg_data2=pd.pivot_table(filter_data,index=['Product Name'],values=['Sales'],aggfunc = np.sum)\n",
    "    flat2 = pd.DataFrame(agg_data2.to_records())\n",
    "    fig4 = go.Figure(go.Scatter(name = 'Sales By Product Name',x=flat2['Product Name'], y=flat2['Sales'], fill='tozeroy', \n",
    "                              text=list(flat2['Sales']), textposition=\"top center\", mode=\"lines+markers+text\" ))\n",
    "    fig4.update_layout(transition_duration=500)\n",
    "    \n",
    "    return [fig1,fig2, fig3,fig4]"
   ]
  },
  {
   "cell_type": "code",
   "execution_count": 8,
   "metadata": {},
   "outputs": [
    {
     "name": "stdout",
     "output_type": "stream",
     "text": [
      " * Serving Flask app \"__main__\" (lazy loading)\n",
      " * Environment: production\n",
      "   WARNING: This is a development server. Do not use it in a production deployment.\n",
      "   Use a production WSGI server instead.\n",
      " * Debug mode: off\n"
     ]
    },
    {
     "name": "stderr",
     "output_type": "stream",
     "text": [
      " * Running on http://127.0.0.1:8050/ (Press CTRL+C to quit)\n",
      "127.0.0.1 - - [29/Aug/2020 10:19:38] \"\u001b[37mGET / HTTP/1.1\u001b[0m\" 200 -\n",
      "127.0.0.1 - - [29/Aug/2020 10:19:38] \"\u001b[37mGET /_dash-layout HTTP/1.1\u001b[0m\" 200 -\n",
      "127.0.0.1 - - [29/Aug/2020 10:19:38] \"\u001b[37mGET /_dash-dependencies HTTP/1.1\u001b[0m\" 200 -\n",
      "127.0.0.1 - - [29/Aug/2020 10:19:39] \"\u001b[37mPOST /_dash-update-component HTTP/1.1\u001b[0m\" 200 -\n"
     ]
    }
   ],
   "source": [
    "##Command to run the app\n",
    "\n",
    "if __name__ == '__main__':\n",
    "    app.run_server(debug=False)\n",
    "    "
   ]
  },
  {
   "cell_type": "code",
   "execution_count": null,
   "metadata": {},
   "outputs": [],
   "source": []
  },
  {
   "cell_type": "code",
   "execution_count": null,
   "metadata": {},
   "outputs": [],
   "source": []
  }
 ],
 "metadata": {
  "kernelspec": {
   "display_name": "Python 3",
   "language": "python",
   "name": "python3"
  },
  "language_info": {
   "codemirror_mode": {
    "name": "ipython",
    "version": 3
   },
   "file_extension": ".py",
   "mimetype": "text/x-python",
   "name": "python",
   "nbconvert_exporter": "python",
   "pygments_lexer": "ipython3",
   "version": "3.7.7"
  }
 },
 "nbformat": 4,
 "nbformat_minor": 2
}
